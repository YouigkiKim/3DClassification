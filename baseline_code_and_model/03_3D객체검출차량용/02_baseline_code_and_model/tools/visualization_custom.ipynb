{
 "cells": [
  {
   "cell_type": "markdown",
   "metadata": {},
   "source": [
    "### visualization script in Team3"
   ]
  },
  {
   "cell_type": "code",
   "execution_count": null,
   "metadata": {},
   "outputs": [],
   "source": []
  },
  {
   "cell_type": "code",
   "execution_count": null,
   "metadata": {},
   "outputs": [],
   "source": [
    "import open3d as o3d\n",
    "import numpy as np\n",
    "\n",
    "points_file = \"/home/ailab/AILabDataset/01_Open_Dataset/39_AutoDna/3d_object_detection/3d_mod_av_db/points/0000000.npy\"\n",
    "\n",
    "\n",
    "# 1. 포인트 클라우드 로드\n",
    "points = np.load(points_file)  # .npy 파일로부터 포인트 로드\n",
    "print(points.shape)\n",
    "pcd = o3d.geometry.PointCloud()\n",
    "pcd.points = o3d.utility.Vector3dVector(points[:, :3])  # x, y, z 좌표만 가져옴\n",
    "\n",
    "# RANSAC을 사용하여 바닥면 탐지\n",
    "plane_model, inliers = pcd.segment_plane(distance_threshold=0.01, ransac_n=3, num_iterations=1000)\n",
    "[a, b, c, d] = plane_model\n",
    "print(f\"Plane equation: {a:.2f}x + {b:.2f}y + {c:.2f}z + {d:.2f} = 0\")"
   ]
  },
  {
   "cell_type": "code",
   "execution_count": null,
   "metadata": {},
   "outputs": [],
   "source": [
    "points_file = \"/home/ailab/AILabDataset/01_Open_Dataset/39_AutoDna/3d_object_detection/3d_mod_av_db/points/00100000.npy\"\n",
    "\n"
   ]
  },
  {
   "cell_type": "markdown",
   "metadata": {},
   "source": []
  },
  {
   "cell_type": "code",
   "execution_count": null,
   "metadata": {},
   "outputs": [],
   "source": [
    "import pickle \n",
    "kitti_path = \"/home/ailab/AILabDataset/01_Open_Dataset/03_KITTI/kitti_dbinfos_train.pkl\"\n",
    "\n",
    "# 파일을 열고 데이터를 로드합니다\n",
    "with open(kitti_path, 'rb') as file:\n",
    "    data = pickle.load(file)\n",
    "\n",
    "# 로드된 데이터를 확인합니다\n",
    "print(data)\n"
   ]
  },
  {
   "cell_type": "code",
   "execution_count": null,
   "metadata": {},
   "outputs": [],
   "source": [
    "import pickle \n",
    "custom_av_pkl = \"/home/ailab/AILabDataset/01_Open_Dataset/39_AutoDna/3d_object_detection/3d_mod_av_db/Team_3_whole_dbinfos_train_origin2.pkl\"\n",
    "\n",
    "# 파일을 열고 데이터를 로드합니다\n",
    "with open(custom_av_pkl, 'rb') as file:\n",
    "    data_dna = pickle.load(file)\n",
    "\n",
    "# 로드된 데이터를 확인합니다\n",
    "print(data_dna)\n"
   ]
  },
  {
   "cell_type": "code",
   "execution_count": null,
   "metadata": {},
   "outputs": [],
   "source": [
    "import os\n",
    "\n",
    "def get_top_5_entries(folder_path):\n",
    "    entries = os.listdir(folder_path)          # 폴더 내 항목 가져오기\n",
    "    top_5_entries = []\n",
    "\n",
    "    for i, entry in enumerate(entries):\n",
    "        if i >= 5:                             # 5번까지만 반복\n",
    "            break\n",
    "        top_5_entries.append(entry)\n",
    "\n",
    "    return top_5_entries\n",
    "\n",
    "folder_path = '/home/ailab/AILabDataset/01_Open_Dataset/39_AutoDna/3d_object_detection/3d_mod_av_db/labels'\n",
    "top_5_entries = get_top_5_entries(folder_path)\n",
    "print(\"Top 5 entries:\", top_5_entries)"
   ]
  },
  {
   "cell_type": "markdown",
   "metadata": {},
   "source": [
    "### 모델 결과 시각화\n"
   ]
  },
  {
   "cell_type": "code",
   "execution_count": null,
   "metadata": {},
   "outputs": [],
   "source": [
    "import argparse\n",
    "import glob\n",
    "from pathlib import Path\n",
    "\n",
    "try:\n",
    "    import open3d\n",
    "    from visual_utils import open3d_vis_utils as V\n",
    "    OPEN3D_FLAG = True\n",
    "except:\n",
    "    import mayavi.mlab as mlab\n",
    "    from visual_utils import visualize_utils as V\n",
    "    OPEN3D_FLAG = False\n",
    "\n",
    "import numpy as np\n",
    "import torch\n",
    "\n",
    "from pcdet.config import cfg, cfg_from_yaml_file\n",
    "from pcdet.datasets import DatasetTemplate\n",
    "from pcdet.models import build_network, load_data_to_gpu\n",
    "from pcdet.utils import common_utils\n",
    "\n",
    "def load_gt_data(label_path, index):\n",
    "    \"\"\"GT 데이터 로드 함수 - index.txt 파일 형식 (클래스 이름 포함)\"\"\"\n",
    "    gt_file = Path(f\"{label_path}/{index:08d}.txt\")\n",
    "\n",
    "    gt_data = []\n",
    "    if gt_file.is_file():\n",
    "        with open(gt_file, 'r') as f:\n",
    "            for line in f:\n",
    "                parts = line.strip().split()\n",
    "                coords = list(map(float, parts[:-1])) # 나머지 요소는 좌표와 크기 정보 (float으로 변환)\n",
    "                gt_data.append(coords) # 튜플로 저장 (클래스 이름, 좌표 정보)\n",
    "        print(gt_data)\n",
    "        return gt_data\n",
    "    else:\n",
    "        print(\"gt file does not exist\")\n",
    "    return None\n",
    "\n",
    "label_path = \"/home/ailab/AILabDataset/01_Open_Dataset/39_AutoDna/3d_object_detection/3d_mod_av_db/labels\"\n",
    "\n",
    "gt = load_gt_data(label_path, 1000)"
   ]
  },
  {
   "cell_type": "markdown",
   "metadata": {},
   "source": [
    "### 벨리데이션 데이터셋 연결"
   ]
  },
  {
   "cell_type": "code",
   "execution_count": null,
   "metadata": {},
   "outputs": [],
   "source": [
    "import numpy as np\n",
    "import os\n",
    "\n",
    "# 웨이모 데이터셋\n",
    "npy_path = \"/home/ailab/AILabDataset/01_Open_Dataset/30_Waymo/waymo_open_dataset_v_1_2_0/waymo_processed_data_v0_5_0/segment-366934253670232570_2229_530_2249_530_with_camera_labels/0000.npy\"\n",
    "\n",
    "data = np.load(npy_path)\n",
    "data"
   ]
  },
  {
   "cell_type": "code",
   "execution_count": null,
   "metadata": {},
   "outputs": [],
   "source": [
    "### KITTI데이터셋\n",
    "\n",
    "import numpy as np\n",
    "# .bin 파일 경로\n",
    "file_path = '/home/ailab/AILabDataset/01_Open_Dataset/03_KITTI/train/lidar/000002.bin'\n",
    "\n",
    "# .bin 파일을 numpy 배열로 로드 (포인트 하나당 4개의 float 값이 있다고 가정)\n",
    "point_cloud = np.fromfile(file_path, dtype=np.float32).reshape(-1, 4)\n",
    "\n",
    "# 결과 확인\n",
    "print(\"Loaded Point Cloud Data:\")\n",
    "print(point_cloud)"
   ]
  },
  {
   "cell_type": "code",
   "execution_count": null,
   "metadata": {},
   "outputs": [],
   "source": [
    "import argparse\n",
    "import glob\n",
    "from pathlib import Path\n",
    "import pickle\n",
    "try:\n",
    "    import open3d\n",
    "    from visual_utils import open3d_vis_utils as V\n",
    "    OPEN3D_FLAG = True\n",
    "except:\n",
    "    import mayavi.mlab as mlab\n",
    "    from visual_utils import visualize_utils as V\n",
    "    OPEN3D_FLAG = False\n",
    "\n",
    "import numpy as np\n",
    "import torch\n",
    "\n",
    "from pcdet.config import cfg, cfg_from_yaml_file\n",
    "from pcdet.datasets import DatasetTemplate\n",
    "from pcdet.models import build_network, load_data_to_gpu\n",
    "from pcdet.utils import common_utils\n",
    "\n",
    "\n",
    "def load_gt_data(label_path, index):\n",
    "    \"\"\"GT 데이터 로드 함수 - index.txt 파일 형식 (클래스 이름 포함)\"\"\"\n",
    "    gt_file = Path(f\"{label_path}/{index:06d}.txt\")\n",
    "\n",
    "    gt_data = []\n",
    "    if gt_file.is_file():\n",
    "        with open(gt_file, 'r') as f:\n",
    "            for line in f:\n",
    "\n",
    "                parts = line.strip().split()\n",
    "                coords = list(map(float, parts[4:-1])) # 나머지 요소는 좌표와 크기 정보 (float으로 변환)\n",
    "                xmin, ymin, xmax, ymax = coords[4:7]\n",
    "                location = coords[11:13]\n",
    "                rotation = coords[14]\n",
    "                coords = np.concat( (np.array(location),np.array([xmax-xmin, ymax-ymin, coords[8]]), np.array([rotation])) , axis = 0)\n",
    "                gt_data.append(coords) # 튜플로 저장 (클래스 이름, 좌표 정보)\n",
    "        print(gt_data)\n",
    "        return np.array(gt_data)\n",
    "    else:\n",
    "        print(\"gt file does not exist\")\n",
    "    return None\n",
    "    \n",
    "    \n",
    "pcl_path='/home/ailab/AILabDataset/01_Open_Dataset/03_KITTI/train/lidar'\n",
    "index = 0\n",
    "data = np.fromfile(pcl_path + f'/{index:06d}.bin', dtype=np.float32).reshape(-1,4)\n",
    "\n",
    "data"
   ]
  },
  {
   "cell_type": "code",
   "execution_count": null,
   "metadata": {},
   "outputs": [],
   "source": [
    "import pickle\n",
    "\n",
    "path = \"/home/ailab/AILabDataset/01_Open_Dataset/39_AutoDna/3d_object_detection/3d_mod_av_db/Team_3_whole_dbinfos_train_origin2.pkl\"\n",
    "\n",
    "\n",
    "with open(path, 'rb') as f:\n",
    "    data = pickle.load(f)\n",
    "data"
   ]
  },
  {
   "cell_type": "code",
   "execution_count": null,
   "metadata": {},
   "outputs": [],
   "source": [
    "# .bin 파일 개수 세기\n",
    "import os\n",
    "directory_path = \"/home/ailab/AILabDataset/01_Open_Dataset/39_AutoDna/3d_object_detection/3d_mod_av_db/Team_3_whole_gt_database_train_origin2\"\n",
    "count=0\n",
    "for file in os.listdir(directory_path):\n",
    "    if file.endswith('.bin'):   \n",
    "        count +=1\n",
    "file_count = len(count)\n",
    "\n",
    "print(f\"team3 총 {count}개의 .bin 파일이 있습니다.\")\n",
    "\n",
    "# .bin 파일 개수 세기\n",
    "directory_path= \"/home/ailab/AILabDataset/01_Open_Dataset/39_AutoDna/3d_object_detection/3d_mod_av_db/Team_1_gt_database\"\n",
    "count=0\n",
    "for file in os.listdir(directory_path):\n",
    "    if file.endswith('.bin'):   \n",
    "        count +=1\n",
    "file_count = len(count)\n",
    "\n",
    "print(f\"team1 총 {count}개의 .bin 파일이 있습니다.\")\n"
   ]
  }
 ],
 "metadata": {
  "kernelspec": {
   "display_name": "Team_3",
   "language": "python",
   "name": "python3"
  },
  "language_info": {
   "codemirror_mode": {
    "name": "ipython",
    "version": 3
   },
   "file_extension": ".py",
   "mimetype": "text/x-python",
   "name": "python",
   "nbconvert_exporter": "python",
   "pygments_lexer": "ipython3",
   "version": "3.9.20"
  }
 },
 "nbformat": 4,
 "nbformat_minor": 2
}
